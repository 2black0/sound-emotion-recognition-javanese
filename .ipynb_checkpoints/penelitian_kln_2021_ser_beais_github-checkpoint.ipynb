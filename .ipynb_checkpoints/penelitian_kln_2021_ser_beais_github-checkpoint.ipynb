{
 "cells": [
  {
   "cell_type": "markdown",
   "metadata": {
    "id": "zOaOwFoMcAOk"
   },
   "source": [
    "# **Connect to Github and Download dataset**"
   ]
  },
  {
   "cell_type": "code",
   "execution_count": 1,
   "metadata": {
    "colab": {
     "base_uri": "https://localhost:8080/"
    },
    "id": "BZkWdsorcElB",
    "outputId": "d63bdf34-86ac-4216-f56f-2dd82f30e67b"
   },
   "outputs": [
    {
     "name": "stdout",
     "output_type": "stream",
     "text": [
      "Cloning into 'sound-emotion-recognition-javanese'...\n",
      "remote: Enumerating objects: 1697, done.\u001b[K\n",
      "remote: Counting objects: 100% (10/10), done.\u001b[K\n",
      "remote: Compressing objects: 100% (10/10), done.\u001b[K\n",
      "remote: Total 1697 (delta 1), reused 6 (delta 0), pack-reused 1687\u001b[K\n",
      "Receiving objects: 100% (1697/1697), 124.20 MiB | 26.08 MiB/s, done.\n",
      "Resolving deltas: 100% (1/1), done.\n",
      "Checking out files: 100% (1686/1686), done.\n"
     ]
    }
   ],
   "source": [
    "#!git clone https://github.com/2black0/sound-emotion-recognition-javanese.git"
   ]
  },
  {
   "cell_type": "markdown",
   "metadata": {
    "id": "Czj0AftWuslZ"
   },
   "source": [
    "# **Check Dataset**"
   ]
  },
  {
   "cell_type": "code",
   "execution_count": 28,
   "metadata": {},
   "outputs": [],
   "source": [
    "import os\n",
    "rootdir = os.getcwd()\n",
    "dirdataset = rootdir+\"/dataset\""
   ]
  },
  {
   "cell_type": "code",
   "execution_count": 29,
   "metadata": {
    "colab": {
     "base_uri": "https://localhost:8080/"
    },
    "id": "Y02wAuXpc8Oe",
    "outputId": "7ec52348-8a7a-4644-9a38-236b16fd0cf1"
   },
   "outputs": [
    {
     "name": "stdout",
     "output_type": "stream",
     "text": [
      "/home/ubuntu/Documents/GitHub/sound-emotion-recognition-javanese/dataset\n"
     ]
    }
   ],
   "source": [
    "%cd $dirdataset"
   ]
  },
  {
   "cell_type": "code",
   "execution_count": 30,
   "metadata": {
    "colab": {
     "base_uri": "https://localhost:8080/",
     "height": 35
    },
    "id": "YCnzRLitdBPJ",
    "outputId": "81e50f54-62c4-40ac-8350-67644252ffcc"
   },
   "outputs": [
    {
     "data": {
      "text/plain": [
       "'/home/ubuntu/Documents/GitHub/sound-emotion-recognition-javanese/dataset'"
      ]
     },
     "execution_count": 30,
     "metadata": {},
     "output_type": "execute_result"
    }
   ],
   "source": [
    "%pwd"
   ]
  },
  {
   "cell_type": "code",
   "execution_count": null,
   "metadata": {
    "colab": {
     "base_uri": "https://localhost:8080/"
    },
    "id": "zjrsx86M7_51",
    "outputId": "ad35675a-ea19-46c9-9bba-d37ec2c5ef6c",
    "scrolled": true,
    "tags": []
   },
   "outputs": [],
   "source": [
    "!ls"
   ]
  },
  {
   "cell_type": "markdown",
   "metadata": {},
   "source": [
    "# **Check the train and test file**"
   ]
  },
  {
   "cell_type": "code",
   "execution_count": 32,
   "metadata": {},
   "outputs": [
    {
     "name": "stdout",
     "output_type": "stream",
     "text": [
      "/home/ubuntu/Documents/GitHub/sound-emotion-recognition-javanese/model\n"
     ]
    }
   ],
   "source": [
    "dirmodel = rootdir+\"/model\"\n",
    "%cd $dirmodel"
   ]
  },
  {
   "cell_type": "code",
   "execution_count": 33,
   "metadata": {},
   "outputs": [
    {
     "name": "stdout",
     "output_type": "stream",
     "text": [
      "total 592\n",
      "-rw-rw-r-- 1 ubuntu ubuntu 134528 Jul 22 05:59 x_test.npy\n",
      "-rw-rw-r-- 1 ubuntu ubuntu 403008 Jul 22 05:59 x_train.npy\n",
      "-rw-rw-r-- 1 ubuntu ubuntu  15248 Jul 22 05:59 y_test.npy\n",
      "-rw-rw-r-- 1 ubuntu ubuntu  45452 Jul 22 05:59 y_train.npy\n"
     ]
    }
   ],
   "source": [
    "!ls -l"
   ]
  },
  {
   "cell_type": "markdown",
   "metadata": {
    "id": "mOsnajXUQ6-c"
   },
   "source": [
    "# **Training & Testing**"
   ]
  },
  {
   "cell_type": "markdown",
   "metadata": {
    "id": "-ChSOACCZHEu"
   },
   "source": [
    "Perhatikan komentar di atas kode sebelum di-run"
   ]
  },
  {
   "cell_type": "code",
   "execution_count": 34,
   "metadata": {
    "colab": {
     "base_uri": "https://localhost:8080/"
    },
    "id": "9YtIlbjLAAc_",
    "outputId": "ebca8329-e7e5-41da-ae36-d8478d5c492d"
   },
   "outputs": [],
   "source": [
    "#load module used\n",
    "import os\n",
    "import re\n",
    "import glob\n",
    "import pickle\n",
    "import soundfile\n",
    "import librosa\n",
    "import numpy as np\n",
    "import pandas as pd\n",
    "from sklearn.model_selection import train_test_split, cross_val_score\n",
    "from sklearn.neural_network import MLPClassifier\n",
    "from sklearn.metrics import accuracy_score, classification_report, confusion_matrix, ConfusionMatrixDisplay\n",
    "from sklearn.linear_model import LogisticRegression\n",
    "from sklearn.neighbors import KNeighborsClassifier\n",
    "from sklearn.svm import SVC\n",
    "from sklearn.gaussian_process import GaussianProcessClassifier\n",
    "from sklearn.gaussian_process.kernels import RBF\n",
    "from sklearn.tree import DecisionTreeClassifier\n",
    "from sklearn.ensemble import RandomForestClassifier, AdaBoostClassifier\n",
    "from sklearn.neural_network import MLPClassifier\n",
    "from sklearn.naive_bayes import GaussianNB\n",
    "from sklearn.discriminant_analysis import QuadraticDiscriminantAnalysis\n",
    "import matplotlib.pyplot as plt\n",
    "\n",
    "plt.style.use('seaborn-whitegrid')\n",
    "%matplotlib inline"
   ]
  },
  {
   "cell_type": "code",
   "execution_count": 36,
   "metadata": {
    "id": "TRJflSIa4vsH"
   },
   "outputs": [],
   "source": [
    "#get the all file\n",
    "def getListOfFiles(dirName):\n",
    "  listOfFile = os.listdir(dirName)\n",
    "  allFiles = list()\n",
    "  for entry in listOfFile:\n",
    "    fullPath = os.path.join(dirName, entry)\n",
    "    if os.path.isdir(fullPath):\n",
    "      allFiles = allFiles + getListOfFiles(fullPath)\n",
    "    else:\n",
    "      allFiles.append(fullPath)      \n",
    "  return allFiles"
   ]
  },
  {
   "cell_type": "code",
   "execution_count": 37,
   "metadata": {
    "id": "xWy8kR6o4vua"
   },
   "outputs": [],
   "source": [
    "#list of all the file, change dirName to directory of the dataset used\n",
    "listOfFiles = getListOfFiles(dirdataset)"
   ]
  },
  {
   "cell_type": "code",
   "execution_count": null,
   "metadata": {
    "colab": {
     "base_uri": "https://localhost:8080/"
    },
    "id": "ZzHQmQXA-9Aj",
    "outputId": "efa1886a-817a-4bb4-e238-692baa7ca4c0",
    "scrolled": true,
    "tags": []
   },
   "outputs": [],
   "source": [
    "print(listOfFiles)"
   ]
  },
  {
   "cell_type": "code",
   "execution_count": 39,
   "metadata": {
    "id": "UPBM1Ky2AAtV"
   },
   "outputs": [],
   "source": [
    "#feature extraction using mfcc, chroma, and mel\n",
    "def feature_extractor(file, mfcc, chroma, mel):\n",
    "  with soundfile.SoundFile(file) as sound_file:\n",
    "    file_array = sound_file.read(dtype=\"float32\")\n",
    "    sample_rate=sound_file.samplerate\n",
    "    result=np.array([])\n",
    "    if mfcc:\n",
    "      mfccs=np.mean(librosa.feature.mfcc(y=file_array, sr=sample_rate, n_mfcc=40).T, axis=0)\n",
    "      result=np.hstack((result, mfccs))\n",
    "    if chroma:\n",
    "      stft=np.abs(librosa.stft(file_array))\n",
    "      chroma=np.mean(librosa.feature.chroma_stft(S=stft, sr=sample_rate).T,axis=0)\n",
    "      result=np.hstack((result, chroma))\n",
    "    if mel:\n",
    "      mel=np.mean(librosa.feature.melspectrogram(file_array, sr=sample_rate).T,axis=0)\n",
    "      result=np.hstack((result, mel))\n",
    "  return result"
   ]
  },
  {
   "cell_type": "code",
   "execution_count": 40,
   "metadata": {
    "id": "98qvEoTwAERF"
   },
   "outputs": [],
   "source": [
    "#list of emotion \n",
    "emotions={\n",
    "        '01':'neutral',\n",
    "        '02':'sad',\n",
    "        '03':'happy',\n",
    "        '04':'surprised',\n",
    "        '05':'fearful',\n",
    "        '06':'angry',\n",
    "        }\n",
    "\n",
    "observed_emotions=['neutral', 'sad', 'happy', 'surprised', 'fearful', 'angry']"
   ]
  },
  {
   "cell_type": "code",
   "execution_count": null,
   "metadata": {
    "colab": {
     "base_uri": "https://localhost:8080/"
    },
    "id": "VpWOY3We8LAI",
    "outputId": "a15ca221-9557-4166-8e4d-6833c69a3206",
    "scrolled": true,
    "tags": []
   },
   "outputs": [],
   "source": [
    "#pastikan tercetak 3 data:\n",
    "# -path lengkap dari file dataset (contoh: /content/drive/MyDrive/Colab/penelitian-kln/clean-dataset/04-01-06_02.wav)\n",
    "# -nama file (contoh: 04-01-06_02.wav)\n",
    "# -emotion(contoh: angry)\n",
    "\n",
    "for file in listOfFiles:\n",
    "  #print(file)\n",
    "  file_name=os.path.basename(file)\n",
    "  emotion=emotions[re.split(\"-|_\", file_name)[2]]\n",
    "  print('file:{} file_name:{} emotion:{}'.format(file, file_name, emotion))"
   ]
  },
  {
   "cell_type": "code",
   "execution_count": 42,
   "metadata": {
    "id": "Yi13C-EdFfYS"
   },
   "outputs": [],
   "source": [
    "def data_loarder(listOfFiles, test_size=0.25):\n",
    "  x,y=[],[]\n",
    "  for file in listOfFiles:\n",
    "    file_name=os.path.basename(file)\n",
    "    emotion=emotions[re.split(\"-|_\", file_name)[2]]\n",
    "    if emotion not in observed_emotions:\n",
    "      continue\n",
    "    feature=feature_extractor(file, mfcc=True, chroma=False, mel=False)\n",
    "    x.append(feature)\n",
    "    y.append(emotion)\n",
    "  return train_test_split(np.array(x), y, test_size=test_size)"
   ]
  },
  {
   "cell_type": "markdown",
   "metadata": {},
   "source": [
    "___"
   ]
  },
  {
   "cell_type": "markdown",
   "metadata": {
    "id": "jxOiM8u_ZhkQ"
   },
   "source": [
    "## **PERHATIAN**: \n",
    "\n",
    "Apabila sudah terdapat file x_test.npy  x_train.npy  y_test.npy  y_train.npy pada folder model tidak perlu menjalankan cell ini"
   ]
  },
  {
   "cell_type": "code",
   "execution_count": null,
   "metadata": {
    "id": "NzPCryNv_bGw"
   },
   "outputs": [],
   "source": [
    "#cukup jalankan 1x saja apabila file2 di bawah ini belum ada\n",
    "x_train, x_test, y_train, y_test = data_loarder(listOfFiles, test_size=0.25)\n",
    "\n",
    "%cd /home/ubuntu/Documents/GitHub/sound-emotion-recognition-javanese/model\n",
    "np.save('x_train.npy', x_train)\n",
    "np.save('x_test.npy', x_test)\n",
    "np.save('y_train.npy', y_train)\n",
    "np.save('y_test.npy', y_test)"
   ]
  },
  {
   "cell_type": "markdown",
   "metadata": {},
   "source": [
    "____"
   ]
  },
  {
   "cell_type": "markdown",
   "metadata": {
    "id": "ec1xK8Y2Z1_A"
   },
   "source": [
    "**PERHATIAN**: Apabila pada bagian ini error, silahkan jalankan kode di atas dan pastikan sudah terdapat file *x_test.npy x_train.npy y_test.npy y_train.npy pada folder model"
   ]
  },
  {
   "cell_type": "code",
   "execution_count": 44,
   "metadata": {
    "colab": {
     "base_uri": "https://localhost:8080/"
    },
    "id": "6Mgd81bIYrlC",
    "outputId": "26875fb2-f293-41d6-ed96-8f20b66e1d98"
   },
   "outputs": [
    {
     "name": "stdout",
     "output_type": "stream",
     "text": [
      "/home/ubuntu/Documents/GitHub/sound-emotion-recognition-javanese/model\n"
     ]
    }
   ],
   "source": [
    "%cd $dirmodel\n",
    "x_trains = np.load('x_train.npy')\n",
    "x_tests = np.load('x_test.npy')\n",
    "y_trains = np.load('y_train.npy')\n",
    "y_tests = np.load('y_test.npy')"
   ]
  },
  {
   "cell_type": "code",
   "execution_count": 45,
   "metadata": {
    "colab": {
     "base_uri": "https://localhost:8080/"
    },
    "id": "qcPR8XduWMzs",
    "outputId": "b9dc47fc-5de5-43ba-9a4a-fe09e06539e1"
   },
   "outputs": [
    {
     "name": "stdout",
     "output_type": "stream",
     "text": [
      "label train: {'angry': 196, 'fearful': 219, 'happy': 213, 'neutral': 208, 'sad': 216, 'surprised': 207}\n",
      "label test: {'angry': 84, 'fearful': 61, 'happy': 66, 'neutral': 72, 'sad': 64, 'surprised': 73}\n"
     ]
    }
   ],
   "source": [
    "#menghitung persebaran dataset yang ada pada train dan test pada masing2 label\n",
    "emotions, counts = np.unique(y_trains, return_counts=True)\n",
    "print('label train:', dict(zip(emotions, counts)))\n",
    "\n",
    "emotions, counts = np.unique(y_tests, return_counts=True)\n",
    "print('label test:', dict(zip(emotions, counts)))"
   ]
  },
  {
   "cell_type": "code",
   "execution_count": 87,
   "metadata": {
    "id": "5x1xwRiyRQ2A"
   },
   "outputs": [],
   "source": [
    "#beberapa algoritma untuk klasifikasi\n",
    "classifiers = [\n",
    "    KNeighborsClassifier(),\n",
    "    SVC(kernel=\"linear\", C=0.025),\n",
    "    RandomForestClassifier(max_depth=5, random_state=43),\n",
    "    MLPClassifier(alpha=0.01, max_iter=1000),\n",
    "    QuadraticDiscriminantAnalysis()]"
   ]
  },
  {
   "cell_type": "code",
   "execution_count": 88,
   "metadata": {
    "id": "SZ_r65QkxcfL"
   },
   "outputs": [],
   "source": [
    "names = [\"Nearest Neighbors\", \"Linear SVC\", \"Random Forest\", \"Neural Net\", \"QDA\"]"
   ]
  },
  {
   "cell_type": "code",
   "execution_count": 89,
   "metadata": {
    "colab": {
     "base_uri": "https://localhost:8080/"
    },
    "id": "WyjY3-MVRQ5C",
    "outputId": "1e0d295b-f141-430d-cb96-32b8db9fbee4"
   },
   "outputs": [
    {
     "name": "stdout",
     "output_type": "stream",
     "text": [
      "Accuracy of Nearest Neighbors Classifier is:0.8119047619047619\n",
      "Accuracy of Linear SVC Classifier is:0.7214285714285714\n",
      "Accuracy of Random Forest Classifier is:0.6952380952380952\n",
      "Accuracy of Neural Net Classifier is:0.8452380952380952\n",
      "Accuracy of QDA Classifier is:0.8642857142857143\n"
     ]
    }
   ],
   "source": [
    "# iterate over classifiers\n",
    "for name, clf in zip(names, classifiers):\n",
    "    clf.fit(x_trains, y_trains)\n",
    "    score = clf.score(x_tests, y_tests)\n",
    "    print(f\"Accuracy of {name} Classifier is:{score}\")"
   ]
  },
  {
   "cell_type": "markdown",
   "metadata": {
    "id": "igsEw9F94D9u",
    "tags": []
   },
   "source": [
    "# **Hyper Parameter Tuning**"
   ]
  },
  {
   "cell_type": "markdown",
   "metadata": {},
   "source": [
    "## Neural Network Hyperparameter"
   ]
  },
  {
   "cell_type": "code",
   "execution_count": 49,
   "metadata": {},
   "outputs": [],
   "source": [
    "import optuna"
   ]
  },
  {
   "cell_type": "code",
   "execution_count": null,
   "metadata": {
    "colab": {
     "base_uri": "https://localhost:8080/"
    },
    "id": "OBpPTzUg4DbB",
    "outputId": "5c60f096-9b35-4245-fae8-7fe35d3e187e",
    "scrolled": true,
    "tags": []
   },
   "outputs": [],
   "source": [
    "def objective(trial):\n",
    "    layers = trial.suggest_categorical('layers',[1,2])\n",
    "    h1 = trial.suggest_int('h1',10,500)\n",
    "    max_i = trial.suggest_int('max_i',10,1000)\n",
    "    lr_init = trial.suggest_uniform('lr',0.00001,0.1)\n",
    "    ni = trial.suggest_int('noi',10,30)\n",
    "    #act = trial.suggest_categorical('activation',['identity', 'logistic', 'tanh', 'relu'])\n",
    "    #sol = trial.suggest_categorical('solver',['lbfgs', 'sgd', 'adam'])\n",
    "    \n",
    "    if layers==1:\n",
    "        clf = MLPClassifier(random_state=11,\n",
    "                            hidden_layer_sizes=(h1),\n",
    "                            max_iter=max_i, \n",
    "                            learning_rate_init=lr_init,\n",
    "                            n_iter_no_change=ni)\n",
    "                            #activation=act,\n",
    "                            #solver=sol)\n",
    "    else:\n",
    "        h2 = trial.suggest_int('h2',10,500)\n",
    "        clf = MLPClassifier(random_state=11,\n",
    "                            hidden_layer_sizes=(h1,h2),\n",
    "                            max_iter=max_i, \n",
    "                            learning_rate_init=lr_init,\n",
    "                            n_iter_no_change=ni)\n",
    "                            #activation=act,\n",
    "                            #solver=sol)\n",
    "    \n",
    "    #clf.fit(x_trains, y_trains)\n",
    "    #return clf.score(x_tests, y_tests)\n",
    "    score = cross_val_score(clf, x_trains, y_trains, n_jobs=-1, cv=3)\n",
    "    accuracy = score.mean()\n",
    "    return accuracy\n",
    "\n",
    "study = optuna.create_study(direction='maximize')\n",
    "study.optimize(objective, n_trials=500)\n",
    "print(study.best_params)"
   ]
  },
  {
   "cell_type": "markdown",
   "metadata": {},
   "source": [
    "{'layers': 2, 'h1': 406, 'max_i': 679, 'lr': 6.885053259405357e-05, 'noi': 25, 'h2': 374}"
   ]
  },
  {
   "cell_type": "code",
   "execution_count": 50,
   "metadata": {},
   "outputs": [
    {
     "name": "stdout",
     "output_type": "stream",
     "text": [
      "Accuracy of Neural Network Classifier is:0.8976190476190476\n"
     ]
    },
    {
     "name": "stderr",
     "output_type": "stream",
     "text": [
      "/home/ubuntu/miniconda3/envs/kln/lib/python3.9/site-packages/sklearn/neural_network/_multilayer_perceptron.py:702: ConvergenceWarning: Stochastic Optimizer: Maximum iterations (679) reached and the optimization hasn't converged yet.\n",
      "  warnings.warn(\n"
     ]
    }
   ],
   "source": [
    "classifier = MLPClassifier(learning_rate_init=6.885053259405357e-05, max_iter=679, n_iter_no_change=25, hidden_layer_sizes=(406,374))\n",
    "\n",
    "classifier.fit(x_trains, y_trains)\n",
    "score = classifier.score(x_tests, y_tests)\n",
    "print(f\"Accuracy of Neural Network Classifier is:{score}\")"
   ]
  },
  {
   "cell_type": "markdown",
   "metadata": {},
   "source": [
    "## KNN Hyperparameter"
   ]
  },
  {
   "cell_type": "code",
   "execution_count": null,
   "metadata": {
    "scrolled": true,
    "tags": []
   },
   "outputs": [],
   "source": [
    "def objective(trial):\n",
    "    optimizer = trial.suggest_categorical('algorithm', ['auto','ball_tree','kd_tree','brute'])\n",
    "    rf_max_depth = trial.suggest_int(\"k_n_neighbors\", 2, 15, log=True)\n",
    "    clf = KNeighborsClassifier(algorithm=optimizer, n_neighbors=rf_max_depth)\n",
    "\n",
    "    score = cross_val_score(clf, x_trains, y_trains, n_jobs=-1, cv=3)\n",
    "    accuracy = score.mean()\n",
    "    return accuracy\n",
    "\n",
    "    #classifier_obj.fit(x_trains, y_trains)\n",
    "    #return classifier_obj.score(x_tests, y_tests)\n",
    "\n",
    "study = optuna.create_study(direction='maximize')\n",
    "study.optimize(objective, n_trials=1000)\n",
    "print(study.best_params)"
   ]
  },
  {
   "cell_type": "code",
   "execution_count": 51,
   "metadata": {},
   "outputs": [
    {
     "name": "stdout",
     "output_type": "stream",
     "text": [
      "Accuracy of KNeighbors Classifier is:0.8261904761904761\n"
     ]
    }
   ],
   "source": [
    "classifier = KNeighborsClassifier(algorithm='kd_tree', n_neighbors=3)\n",
    "\n",
    "classifier.fit(x_trains, y_trains)\n",
    "score = classifier.score(x_tests, y_tests)\n",
    "print(f\"Accuracy of KNeighbors Classifier is:{score}\")"
   ]
  },
  {
   "cell_type": "markdown",
   "metadata": {},
   "source": [
    "## SVM Hyperparameter"
   ]
  },
  {
   "cell_type": "code",
   "execution_count": null,
   "metadata": {
    "scrolled": true,
    "tags": []
   },
   "outputs": [],
   "source": [
    "def objective(trial):\n",
    "    #kernel = trial.suggest_categorical('kernel', ['linear', 'poly', 'rbf', 'sigmoid'])\n",
    "    kernel = trial.suggest_categorical('kernel', ['linear', 'poly'])\n",
    "    regularization = trial.suggest_uniform('svm-regularization', 0.01, 10)\n",
    "    degree = trial.suggest_discrete_uniform('degree', 1, 5, 1)\n",
    "    clf = SVC(kernel=kernel, C=regularization, degree=degree)\n",
    "\n",
    "    score = cross_val_score(clf, x_trains, y_trains, n_jobs=-1, cv=3)\n",
    "    accuracy = score.mean()\n",
    "    return accuracy\n",
    "\n",
    "study = optuna.create_study(direction='maximize')\n",
    "study.optimize(objective, n_trials=200)\n",
    "print(study.best_params)"
   ]
  },
  {
   "cell_type": "code",
   "execution_count": 53,
   "metadata": {},
   "outputs": [
    {
     "name": "stdout",
     "output_type": "stream",
     "text": [
      "Accuracy of SVM Classifier is:0.7166666666666667\n"
     ]
    }
   ],
   "source": [
    "#classifier = SVC(kernel='linear', C=1.4965680888866226, degree=1.0)\n",
    "classifier = SVC(kernel='linear', C=1.4873029879624768, degree=2.0)\n",
    "\n",
    "classifier.fit(x_trains, y_trains)\n",
    "score = classifier.score(x_tests, y_tests)\n",
    "print(f\"Accuracy of SVM Classifier is:{score}\")"
   ]
  },
  {
   "cell_type": "markdown",
   "metadata": {},
   "source": [
    "## Random Forest Hyperparameter"
   ]
  },
  {
   "cell_type": "code",
   "execution_count": null,
   "metadata": {
    "scrolled": true,
    "tags": []
   },
   "outputs": [],
   "source": [
    "def objective(trial):\n",
    "    rf_n_estimators = trial.suggest_int(\"rf_n_estimators\", 10, 1000)\n",
    "    rf_max_depth = trial.suggest_int(\"rf_max_depth\", 2, 32, log=True)\n",
    "    classifier_obj = RandomForestClassifier(max_depth=rf_max_depth, n_estimators=rf_n_estimators)\n",
    "\n",
    "    score = cross_val_score(clf, x_trains, y_trains, n_jobs=-1, cv=3)\n",
    "    accuracy = score.mean()\n",
    "    return accuracy\n",
    "\n",
    "study = optuna.create_study(direction='maximize')\n",
    "study.optimize(objective, n_trials=500)\n",
    "print(study.best_params)"
   ]
  },
  {
   "cell_type": "code",
   "execution_count": 54,
   "metadata": {},
   "outputs": [
    {
     "name": "stdout",
     "output_type": "stream",
     "text": [
      "Accuracy of Random Forest Classifier is:0.8142857142857143\n"
     ]
    }
   ],
   "source": [
    "classifier = RandomForestClassifier(max_depth=8, n_estimators=90)\n",
    "\n",
    "classifier.fit(x_trains, y_trains)\n",
    "score = classifier.score(x_tests, y_tests)\n",
    "print(f\"Accuracy of Random Forest Classifier is:{score}\")"
   ]
  },
  {
   "cell_type": "markdown",
   "metadata": {},
   "source": [
    "_____"
   ]
  },
  {
   "cell_type": "markdown",
   "metadata": {},
   "source": [
    "# **Report**"
   ]
  },
  {
   "cell_type": "markdown",
   "metadata": {},
   "source": [
    "## Kearest Neighbors Classifier"
   ]
  },
  {
   "cell_type": "code",
   "execution_count": 105,
   "metadata": {
    "colab": {
     "base_uri": "https://localhost:8080/"
    },
    "id": "01mHJReFYs8U",
    "outputId": "156dc982-2f39-49ea-99fe-2f7e741af1bf"
   },
   "outputs": [
    {
     "name": "stdout",
     "output_type": "stream",
     "text": [
      "Classification Report of KNearest Neighbors Classifier\n",
      "Accuracy = 0.81\n",
      "              precision    recall  f1-score   support\n",
      "\n",
      "       angry       0.94      0.90      0.92        84\n",
      "     fearful       0.66      0.90      0.76        61\n",
      "       happy       0.74      0.79      0.76        66\n",
      "     neutral       0.89      0.90      0.90        72\n",
      "         sad       0.80      0.70      0.75        64\n",
      "   surprised       0.84      0.66      0.74        73\n",
      "\n",
      "    accuracy                           0.81       420\n",
      "   macro avg       0.81      0.81      0.81       420\n",
      "weighted avg       0.82      0.81      0.81       420\n",
      "\n"
     ]
    }
   ],
   "source": [
    "#cetak precision, recall, f1-score, dan support dari Nearest Neighbors Classifier\n",
    "y_pred=classifiers[0].predict(x_tests)\n",
    "\n",
    "print(\"Classification Report of KNearest Neighbors Classifier\")\n",
    "print(\"Accuracy = %0.2f\" % accuracy_score(y_tests, y_pred))\n",
    "print(classification_report(y_tests, y_pred))"
   ]
  },
  {
   "cell_type": "code",
   "execution_count": 106,
   "metadata": {},
   "outputs": [
    {
     "data": {
      "text/plain": [
       "<sklearn.metrics._plot.confusion_matrix.ConfusionMatrixDisplay at 0x7ff5bd45c6d0>"
      ]
     },
     "execution_count": 106,
     "metadata": {},
     "output_type": "execute_result"
    },
    {
     "data": {
      "image/png": "[encoded data removed]",
      "text/plain": [
       "<Figure size 720x720 with 2 Axes>"
      ]
     },
     "metadata": {
      "needs_background": "light"
     },
     "output_type": "display_data"
    }
   ],
   "source": [
    "#plot confusion matrix Nearest Neighbors Classifier\n",
    "cm = confusion_matrix(y_tests, y_pred)\n",
    "cmp = ConfusionMatrixDisplay(cm, display_labels=classifiers[0].classes_)\n",
    "fig, ax = plt.subplots(figsize=(10,10))\n",
    "cmp.plot(ax=ax)"
   ]
  },
  {
   "cell_type": "markdown",
   "metadata": {},
   "source": [
    "## Linear SVC"
   ]
  },
  {
   "cell_type": "code",
   "execution_count": 107,
   "metadata": {
    "colab": {
     "base_uri": "https://localhost:8080/"
    },
    "id": "KJnw6vSGg00M",
    "outputId": "c1a2a3bb-71e0-412f-d677-e9a4f72bdda7"
   },
   "outputs": [
    {
     "name": "stdout",
     "output_type": "stream",
     "text": [
      "Classification Report of Linear SVC Classifier\n",
      "Accuracy = 0.72\n",
      "              precision    recall  f1-score   support\n",
      "\n",
      "       angry       0.79      0.88      0.83        84\n",
      "     fearful       0.61      0.66      0.63        61\n",
      "       happy       0.63      0.68      0.66        66\n",
      "     neutral       0.89      0.88      0.88        72\n",
      "         sad       0.66      0.59      0.62        64\n",
      "   surprised       0.72      0.59      0.65        73\n",
      "\n",
      "    accuracy                           0.72       420\n",
      "   macro avg       0.71      0.71      0.71       420\n",
      "weighted avg       0.72      0.72      0.72       420\n",
      "\n"
     ]
    }
   ],
   "source": [
    "#cetak precision, recall, f1-score, dan support dari Linear SVC Classifier\n",
    "y_pred=classifiers[1].predict(x_tests)\n",
    "\n",
    "print(\"Classification Report of Linear SVC Classifier\")\n",
    "print(\"Accuracy = %0.2f\" % accuracy_score(y_tests, y_pred))\n",
    "print(classification_report(y_tests, y_pred))"
   ]
  },
  {
   "cell_type": "code",
   "execution_count": 108,
   "metadata": {},
   "outputs": [
    {
     "data": {
      "text/plain": [
       "<sklearn.metrics._plot.confusion_matrix.ConfusionMatrixDisplay at 0x7ff5bd339b50>"
      ]
     },
     "execution_count": 108,
     "metadata": {},
     "output_type": "execute_result"
    },
    {
     "data": {
      "image/png": "[encoded data removed]",
      "text/plain": [
       "<Figure size 720x720 with 2 Axes>"
      ]
     },
     "metadata": {
      "needs_background": "light"
     },
     "output_type": "display_data"
    }
   ],
   "source": [
    "#plot confusion matrix Nearest Neighbors Classifier\n",
    "cm = confusion_matrix(y_tests, y_pred)\n",
    "cmp = ConfusionMatrixDisplay(cm, display_labels=classifiers[1].classes_)\n",
    "fig, ax = plt.subplots(figsize=(10,10))\n",
    "cmp.plot(ax=ax)"
   ]
  },
  {
   "cell_type": "markdown",
   "metadata": {},
   "source": [
    "## Random Forest"
   ]
  },
  {
   "cell_type": "code",
   "execution_count": 109,
   "metadata": {
    "colab": {
     "base_uri": "https://localhost:8080/"
    },
    "id": "Mu3To1cYg087",
    "outputId": "0387e165-0238-493e-a1f3-71b754bb6174"
   },
   "outputs": [
    {
     "name": "stdout",
     "output_type": "stream",
     "text": [
      "Classification Report of Random Forest Classifier\n",
      "Accuracy = 0.70\n",
      "              precision    recall  f1-score   support\n",
      "\n",
      "       angry       0.78      0.87      0.82        84\n",
      "     fearful       0.59      0.62      0.61        61\n",
      "       happy       0.66      0.53      0.59        66\n",
      "     neutral       0.78      0.86      0.82        72\n",
      "         sad       0.69      0.69      0.69        64\n",
      "   surprised       0.62      0.55      0.58        73\n",
      "\n",
      "    accuracy                           0.70       420\n",
      "   macro avg       0.68      0.69      0.68       420\n",
      "weighted avg       0.69      0.70      0.69       420\n",
      "\n"
     ]
    }
   ],
   "source": [
    "#cetak precision, recall, f1-score, dan support dari Random Forest Classifier\n",
    "y_pred=classifiers[2].predict(x_tests)\n",
    "\n",
    "print(\"Classification Report of Random Forest Classifier\")\n",
    "print(\"Accuracy = %0.2f\" % accuracy_score(y_tests, y_pred))\n",
    "print(classification_report(y_tests, y_pred))"
   ]
  },
  {
   "cell_type": "code",
   "execution_count": 110,
   "metadata": {},
   "outputs": [
    {
     "data": {
      "text/plain": [
       "<sklearn.metrics._plot.confusion_matrix.ConfusionMatrixDisplay at 0x7ff591350cd0>"
      ]
     },
     "execution_count": 110,
     "metadata": {},
     "output_type": "execute_result"
    },
    {
     "data": {
      "image/png": "[encoded data removed]",
      "text/plain": [
       "<Figure size 720x720 with 2 Axes>"
      ]
     },
     "metadata": {
      "needs_background": "light"
     },
     "output_type": "display_data"
    }
   ],
   "source": [
    "#plot confusion matrix Nearest Neighbors Classifier\n",
    "cm = confusion_matrix(y_tests, y_pred)\n",
    "cmp = ConfusionMatrixDisplay(cm, display_labels=classifiers[2].classes_)\n",
    "fig, ax = plt.subplots(figsize=(10,10))\n",
    "cmp.plot(ax=ax)"
   ]
  },
  {
   "cell_type": "markdown",
   "metadata": {},
   "source": [
    "## Neural Network"
   ]
  },
  {
   "cell_type": "code",
   "execution_count": 112,
   "metadata": {
    "colab": {
     "base_uri": "https://localhost:8080/"
    },
    "id": "aHuMu0ndg1CX",
    "outputId": "c0cadfd7-47a7-4b69-a9cc-b53d6ad9a6b9"
   },
   "outputs": [
    {
     "name": "stdout",
     "output_type": "stream",
     "text": [
      "Classification Report of Neural Network Classifier\n",
      "Accuracy = 0.85\n",
      "              precision    recall  f1-score   support\n",
      "\n",
      "       angry       0.93      0.85      0.89        84\n",
      "     fearful       0.87      0.75      0.81        61\n",
      "       happy       0.71      0.92      0.80        66\n",
      "     neutral       0.97      0.92      0.94        72\n",
      "         sad       0.79      0.89      0.84        64\n",
      "   surprised       0.83      0.74      0.78        73\n",
      "\n",
      "    accuracy                           0.85       420\n",
      "   macro avg       0.85      0.85      0.84       420\n",
      "weighted avg       0.86      0.85      0.85       420\n",
      "\n"
     ]
    }
   ],
   "source": [
    "#cetak precision, recall, f1-score, dan support dari Neural Network Classifier\n",
    "y_pred=classifiers[3].predict(x_tests)\n",
    "\n",
    "print(\"Classification Report of Neural Network Classifier\")\n",
    "print(\"Accuracy = %0.2f\" % accuracy_score(y_tests, y_pred))\n",
    "print(classification_report(y_tests, y_pred))"
   ]
  },
  {
   "cell_type": "code",
   "execution_count": 113,
   "metadata": {},
   "outputs": [
    {
     "data": {
      "text/plain": [
       "<sklearn.metrics._plot.confusion_matrix.ConfusionMatrixDisplay at 0x7ff589e3d1c0>"
      ]
     },
     "execution_count": 113,
     "metadata": {},
     "output_type": "execute_result"
    },
    {
     "data": {
      "image/png": "[encoded data removed]",
      "text/plain": [
       "<Figure size 720x720 with 2 Axes>"
      ]
     },
     "metadata": {
      "needs_background": "light"
     },
     "output_type": "display_data"
    }
   ],
   "source": [
    "#plot confusion matrix Nearest Neighbors Classifier\n",
    "cm = confusion_matrix(y_tests, y_pred)\n",
    "cmp = ConfusionMatrixDisplay(cm, display_labels=classifiers[3].classes_)\n",
    "fig, ax = plt.subplots(figsize=(10,10))\n",
    "cmp.plot(ax=ax)"
   ]
  },
  {
   "cell_type": "markdown",
   "metadata": {},
   "source": [
    "## QDA Classifier"
   ]
  },
  {
   "cell_type": "code",
   "execution_count": 114,
   "metadata": {
    "colab": {
     "base_uri": "https://localhost:8080/"
    },
    "id": "hCo0e8qug-IP",
    "outputId": "c3774e1e-06c2-46bb-f2d1-1b5b56d800c2"
   },
   "outputs": [
    {
     "name": "stdout",
     "output_type": "stream",
     "text": [
      "Classification Report of QDA Classifier \n",
      "Accuracy = 0.86\n",
      "              precision    recall  f1-score   support\n",
      "\n",
      "       angry       0.88      0.90      0.89        84\n",
      "     fearful       0.91      0.79      0.84        61\n",
      "       happy       0.90      0.83      0.87        66\n",
      "     neutral       0.95      0.97      0.96        72\n",
      "         sad       0.81      0.80      0.80        64\n",
      "   surprised       0.76      0.86      0.81        73\n",
      "\n",
      "    accuracy                           0.86       420\n",
      "   macro avg       0.87      0.86      0.86       420\n",
      "weighted avg       0.87      0.86      0.86       420\n",
      "\n"
     ]
    }
   ],
   "source": [
    "#cetak precision, recall, f1-score, dan support dari QDA Classifier\n",
    "y_pred=classifiers[4].predict(x_tests)\n",
    "\n",
    "print(\"Classification Report of QDA Classifier \")\n",
    "print(\"Accuracy = %0.2f\" % accuracy_score(y_tests, y_pred))\n",
    "print(classification_report(y_tests, y_pred))"
   ]
  },
  {
   "cell_type": "code",
   "execution_count": 115,
   "metadata": {},
   "outputs": [
    {
     "data": {
      "text/plain": [
       "<sklearn.metrics._plot.confusion_matrix.ConfusionMatrixDisplay at 0x7ff589e3a3d0>"
      ]
     },
     "execution_count": 115,
     "metadata": {},
     "output_type": "execute_result"
    },
    {
     "data": {
      "image/png": "[encoded data removed]",
      "text/plain": [
       "<Figure size 720x720 with 2 Axes>"
      ]
     },
     "metadata": {
      "needs_background": "light"
     },
     "output_type": "display_data"
    }
   ],
   "source": [
    "#plot confusion matrix Nearest Neighbors Classifier\n",
    "cm = confusion_matrix(y_tests, y_pred)\n",
    "cmp = ConfusionMatrixDisplay(cm, display_labels=classifiers[4].classes_)\n",
    "fig, ax = plt.subplots(figsize=(10,10))\n",
    "cmp.plot(ax=ax)"
   ]
  },
  {
   "cell_type": "markdown",
   "metadata": {
    "id": "BnqQSOdXWhJx"
   },
   "source": [
    "# **Import Model**"
   ]
  },
  {
   "cell_type": "markdown",
   "metadata": {
    "id": "eKNm2m8cahmp"
   },
   "source": [
    "Bagian ini digunakan untuk menyimpan model hasil training"
   ]
  },
  {
   "cell_type": "code",
   "execution_count": 117,
   "metadata": {
    "id": "e1WnaJOiWjUW"
   },
   "outputs": [],
   "source": [
    "import pickle"
   ]
  },
  {
   "cell_type": "code",
   "execution_count": 118,
   "metadata": {
    "colab": {
     "base_uri": "https://localhost:8080/"
    },
    "id": "z_ohonYgWzsZ",
    "outputId": "d9bb6fd9-5644-479b-8633-9d5d65b05735"
   },
   "outputs": [
    {
     "name": "stdout",
     "output_type": "stream",
     "text": [
      "/home/ubuntu/Documents/GitHub/sound-emotion-recognition-javanese/model\n"
     ]
    }
   ],
   "source": [
    "#change directory\n",
    "%cd $dirmodel"
   ]
  },
  {
   "cell_type": "code",
   "execution_count": 120,
   "metadata": {
    "id": "utUKpSgyWjW6"
   },
   "outputs": [],
   "source": [
    "# save the model to disk\n",
    "filename = 'final_model_NeuralNetwork.sav'\n",
    "pickle.dump(classifiers[3], open(filename, 'wb'))"
   ]
  },
  {
   "cell_type": "markdown",
   "metadata": {
    "id": "cpSHA5obW-EW"
   },
   "source": [
    "# **Test the Model**"
   ]
  },
  {
   "cell_type": "markdown",
   "metadata": {
    "id": "r7gRfQhkamP0"
   },
   "source": [
    "Bagian ini untuk meload file model agar bisa digunakan untuk prediksi"
   ]
  },
  {
   "cell_type": "code",
   "execution_count": 122,
   "metadata": {
    "colab": {
     "base_uri": "https://localhost:8080/"
    },
    "id": "xWkPS4gDWjak",
    "outputId": "8fd97d6a-1be9-42fa-c1f6-23b36532861f"
   },
   "outputs": [
    {
     "name": "stdout",
     "output_type": "stream",
     "text": [
      "0.8452380952380952\n"
     ]
    }
   ],
   "source": [
    "# load the model from disk\n",
    "filename = 'final_model_NeuralNetwork.sav'\n",
    "\n",
    "loaded_model = pickle.load(open(filename, 'rb'))\n",
    "result = loaded_model.score(x_tests, y_tests)\n",
    "print(result)"
   ]
  },
  {
   "cell_type": "markdown",
   "metadata": {
    "id": "geuT4RcamvGm"
   },
   "source": [
    "**Penamaan File**\n",
    "\n",
    "*aa-bb-cc-dd.wav*\n",
    "\n",
    "- aa -> Aktor 01-10\n",
    "- bb -> Kalimat 01-04\n",
    "- cc -> Ekspresi 01-06\n",
    "- dd -> Pengulanan 01-07\n",
    "\n",
    "Eskpresi:\n",
    "- 01 - Neutral / Biasa\n",
    "- 02 - Sadness / Susah\n",
    "- 03 - Happiness / Seneng\n",
    "- 04 - Surprise / Kaget\n",
    "- 05 - Fear / Wedi\n",
    "- 06 - Anger / Ness\n",
    "\n",
    "contoh:\n",
    "*01-02-03-04.wav*\n",
    "\n",
    "- 01 -> Aktor 01\n",
    "- 02 -> Kalimat ke-02\n",
    "- 03 -> Ekspresi ke-03\n",
    "- 04 -> Pengulanan ke-04"
   ]
  },
  {
   "cell_type": "code",
   "execution_count": 123,
   "metadata": {
    "id": "o-Bz_Zm-5n7e"
   },
   "outputs": [],
   "source": [
    "#feature extraction dari file yang akan di uji / di prediksi\n",
    "x = []\n",
    "file_test = dirdataset+\"/01-03-02_04.wav\"\n",
    "feature=feature_extractor(file_test, mfcc=True, chroma=False, mel=False)\n",
    "x.append(feature)"
   ]
  },
  {
   "cell_type": "code",
   "execution_count": 124,
   "metadata": {
    "colab": {
     "base_uri": "https://localhost:8080/"
    },
    "id": "5Z_pArTd6FFm",
    "outputId": "432687f0-f1f6-4991-c3d8-6b4f1a110e44"
   },
   "outputs": [
    {
     "name": "stdout",
     "output_type": "stream",
     "text": [
      "['sad']\n"
     ]
    }
   ],
   "source": [
    "#hasil prediksi berdasarkan model aktif\n",
    "y=classifiers[3].predict(x)\n",
    "print(y)"
   ]
  },
  {
   "cell_type": "code",
   "execution_count": 125,
   "metadata": {
    "colab": {
     "base_uri": "https://localhost:8080/"
    },
    "id": "vJs0rzLJ6xMV",
    "outputId": "54fdc28d-a2ef-4649-c03c-eb1c2ee965dc"
   },
   "outputs": [
    {
     "name": "stdout",
     "output_type": "stream",
     "text": [
      "['sad']\n"
     ]
    }
   ],
   "source": [
    "#hasil prediksi berdasarkan file model\n",
    "y_m = loaded_model.predict(x)\n",
    "print(y_m)"
   ]
  }
 ],
 "metadata": {
  "colab": {
   "collapsed_sections": [],
   "name": "penelitian-kln-2021-ser-beais-github.ipynb",
   "provenance": []
  },
  "kernelspec": {
   "display_name": "Python 3 (ipykernel)",
   "language": "python",
   "name": "python3"
  },
  "language_info": {
   "codemirror_mode": {
    "name": "ipython",
    "version": 3
   },
   "file_extension": ".py",
   "mimetype": "text/x-python",
   "name": "python",
   "nbconvert_exporter": "python",
   "pygments_lexer": "ipython3",
   "version": "3.9.0"
  }
 },
 "nbformat": 4,
 "nbformat_minor": 4
}
